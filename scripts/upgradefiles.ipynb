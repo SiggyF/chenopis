{
 "metadata": {
  "name": "upgradefiles"
 },
 "nbformat": 3,
 "nbformat_minor": 0,
 "worksheets": [
  {
   "cells": [
    {
     "cell_type": "code",
     "collapsed": false,
     "input": [
      "import os\n",
      "import argparse\n",
      "import sys\n",
      "import re"
     ],
     "language": "python",
     "metadata": {},
     "outputs": [],
     "prompt_number": 28
    },
    {
     "cell_type": "code",
     "collapsed": false,
     "input": [
      "fortran_files = [os.path.join('../src', filename) for filename in os.listdir('../src') if filename.endswith('.F') or filename.endswith('.F90')]"
     ],
     "language": "python",
     "metadata": {},
     "outputs": [],
     "prompt_number": 64
    },
    {
     "cell_type": "code",
     "collapsed": false,
     "input": [
      "preprocess_lines = []\n",
      "preprocess_re = re.compile(r'^!(?P<tag>[A-Z]{2,5})(?P<code>.*)')\n",
      "\n",
      "def upgrade_preprocess(filename):\n",
      "    lines = open(filename).readlines()\n",
      "    newlines = []\n",
      "    tag = None\n",
      "    for i, line in enumerate(lines):\n",
      "        match = preprocess_re.search(line)\n",
      "        if match:\n",
      "            newtag = tag is None\n",
      "            differenttag = not newtag and tag != match.group('tag')\n",
      "            if differenttag:\n",
      "                newlines.append(\"#endif\")\n",
      "            if newtag or differenttag:\n",
      "                newlines.append(\"#ifdef HAVE_{}\".format(match.group('tag')))\n",
      "            tag = match.group('tag')\n",
      "            newlines.append(match.group('code').strip())\n",
      "        else:\n",
      "            endtag = tag is not None\n",
      "            if endtag:\n",
      "                newlines.append(\"#endif\")\n",
      "            tag = None\n",
      "            newlines.append(line.strip())\n",
      "    newfile = open(filename, 'w')\n",
      "    newfile.writelines(line + '\\n' for line in newlines)\n",
      "    newfile.close()\n",
      "    \n",
      "                "
     ],
     "language": "python",
     "metadata": {},
     "outputs": [],
     "prompt_number": 73
    },
    {
     "cell_type": "code",
     "collapsed": false,
     "input": [
      "for filename in fortran_files:\n",
      "    upgrade_preprocess(filename)"
     ],
     "language": "python",
     "metadata": {},
     "outputs": [],
     "prompt_number": 74
    },
    {
     "cell_type": "code",
     "collapsed": false,
     "input": [],
     "language": "python",
     "metadata": {},
     "outputs": []
    }
   ],
   "metadata": {}
  }
 ]
}