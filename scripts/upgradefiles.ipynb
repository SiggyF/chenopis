{
 "metadata": {
  "name": "upgradefiles"
 },
 "nbformat": 3,
 "nbformat_minor": 0,
 "worksheets": [
  {
   "cells": [
    {
     "cell_type": "code",
     "collapsed": false,
     "input": [
      "import os\n",
      "import argparse\n",
      "import sys\n",
      "import re"
     ],
     "language": "python",
     "metadata": {},
     "outputs": [],
     "prompt_number": 2
    },
    {
     "cell_type": "code",
     "collapsed": false,
     "input": [
      "fortran_files = [os.path.join('../src', filename) for filename in os.listdir('../src') if filename.endswith('.F') or filename.endswith('.F90')]"
     ],
     "language": "python",
     "metadata": {},
     "outputs": [],
     "prompt_number": 3
    },
    {
     "cell_type": "code",
     "collapsed": false,
     "input": [
      "preprocess_lines = []\n",
      "preprocess_re = re.compile(r'^!(?P<tag>[A-Z]{2,5})(?P<code>.*)')\n",
      "\n",
      "def upgrade_preprocess(filename):\n",
      "    lines = open(filename).readlines()\n",
      "    newlines = []\n",
      "    tag = None\n",
      "    for i, line in enumerate(lines):\n",
      "        match = preprocess_re.search(line)\n",
      "        if match:\n",
      "            newtag = tag is None\n",
      "            differenttag = not newtag and tag != match.group('tag')\n",
      "            if differenttag:\n",
      "                newlines.append(\"#endif\\n\")\n",
      "            if newtag or differenttag:\n",
      "                newlines.append(\"#ifdef HAVE_{}\\n\".format(match.group('tag')))\n",
      "            tag = match.group('tag')\n",
      "            # replace tag by spaces of the same length\n",
      "            newlines.append(' '*(len(tag)+1) + match.group('code') + '\\n')\n",
      "        else:\n",
      "            endtag = tag is not None\n",
      "            if endtag:\n",
      "                newlines.append(\"#endif\\n\")\n",
      "            tag = None\n",
      "            newlines.append(line)\n",
      "    newfile = open(filename, 'w')\n",
      "    newfile.writelines(newlines)\n",
      "    newfile.close()\n",
      "    \n",
      "                "
     ],
     "language": "python",
     "metadata": {},
     "outputs": [],
     "prompt_number": 8
    },
    {
     "cell_type": "code",
     "collapsed": false,
     "input": [
      "for filename in fortran_files:\n",
      "    upgrade_preprocess(filename)"
     ],
     "language": "python",
     "metadata": {},
     "outputs": [],
     "prompt_number": 9
    },
    {
     "cell_type": "code",
     "collapsed": false,
     "input": [],
     "language": "python",
     "metadata": {},
     "outputs": []
    }
   ],
   "metadata": {}
  }
 ]
}